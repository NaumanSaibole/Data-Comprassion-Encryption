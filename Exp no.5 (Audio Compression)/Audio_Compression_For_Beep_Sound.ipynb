{
  "nbformat": 4,
  "nbformat_minor": 0,
  "metadata": {
    "colab": {
      "name": "Audio Compression For Beep Sound.ipynb",
      "provenance": [],
      "collapsed_sections": [],
      "toc_visible": true,
      "include_colab_link": true
    },
    "kernelspec": {
      "name": "python3",
      "display_name": "Python 3"
    }
  },
  "cells": [
    {
      "cell_type": "markdown",
      "metadata": {
        "id": "view-in-github",
        "colab_type": "text"
      },
      "source": [
        "<a href=\"https://colab.research.google.com/github/NaumanSaibole/Data-Comprassion-Encryption/blob/master/Exp%20no.5%20(Audio%20Compression)/Audio_Compression_For_Beep_Sound.ipynb\" target=\"_parent\"><img src=\"https://colab.research.google.com/assets/colab-badge.svg\" alt=\"Open In Colab\"/></a>"
      ]
    },
    {
      "cell_type": "markdown",
      "metadata": {
        "id": "ZaT611tkA3jv",
        "colab_type": "text"
      },
      "source": [
        "### Audio Compression Generation of Beep Sound Using (.wav format) "
      ]
    },
    {
      "cell_type": "code",
      "metadata": {
        "id": "B5TqGWBxZ731",
        "colab_type": "code",
        "colab": {
          "base_uri": "https://localhost:8080/",
          "height": 284
        },
        "outputId": "7c901f38-dfdb-487a-ce12-63403e708d50"
      },
      "source": [
        "!pip3 install audiosegment"
      ],
      "execution_count": 1,
      "outputs": [
        {
          "output_type": "stream",
          "text": [
            "Collecting audiosegment\n",
            "  Downloading https://files.pythonhosted.org/packages/9f/78/2f062377cc32dbe8cbd74ede1e2cb26ec36350b83095b5a6e06cc6f9c251/audiosegment-0.23.0-py3-none-any.whl\n",
            "Requirement already satisfied: numpy in /usr/local/lib/python3.6/dist-packages (from audiosegment) (1.18.5)\n",
            "Collecting webrtcvad\n",
            "\u001b[?25l  Downloading https://files.pythonhosted.org/packages/89/34/e2de2d97f3288512b9ea56f92e7452f8207eb5a0096500badf9dfd48f5e6/webrtcvad-2.0.10.tar.gz (66kB)\n",
            "\u001b[K     |████████████████████████████████| 71kB 2.9MB/s \n",
            "\u001b[?25hCollecting pydub\n",
            "  Downloading https://files.pythonhosted.org/packages/7b/d1/fbfa79371a8cd9bb15c2e3c480d7e6e340ed5cc55005174e16f48418333a/pydub-0.24.1-py2.py3-none-any.whl\n",
            "Building wheels for collected packages: webrtcvad\n",
            "  Building wheel for webrtcvad (setup.py) ... \u001b[?25l\u001b[?25hdone\n",
            "  Created wheel for webrtcvad: filename=webrtcvad-2.0.10-cp36-cp36m-linux_x86_64.whl size=71355 sha256=eb8eff123ce57ed70d7d542efab1515a545fa41d8c64649bb354488da8ddf746\n",
            "  Stored in directory: /root/.cache/pip/wheels/44/2a/18/bd1aec41cac7c3051fe95d92a6ed446122ea31dc713c432fa1\n",
            "Successfully built webrtcvad\n",
            "Installing collected packages: webrtcvad, pydub, audiosegment\n",
            "Successfully installed audiosegment-0.23.0 pydub-0.24.1 webrtcvad-2.0.10\n"
          ],
          "name": "stdout"
        }
      ]
    },
    {
      "cell_type": "code",
      "metadata": {
        "id": "e_IcmFUq97iN",
        "colab_type": "code",
        "colab": {}
      },
      "source": [
        "# for audio file 1\n",
        "\n",
        "import numpy as np\n",
        "import wave\n",
        "import struct\n",
        "from IPython.display import Audio\n",
        " \n",
        "# frequency is the number of times a wave repeats a second\n",
        " \n",
        "frequency = 2000\n",
        " \n",
        "num_samples = 4800\n",
        " \n",
        "# The sampling rate of the analog to digital convert\n",
        " \n",
        "sampling_rate = 4800\n",
        " \n",
        "amplitude = 7000\n",
        "#\n",
        "comptype=\"NONE\"\n",
        " \n",
        "compname=\"not compressed\"\n",
        "\n",
        "nchannels=1\n",
        "\n",
        "sampwidth=2\n",
        "\n",
        "nframes=num_samples\n",
        " \n",
        "file = \"test.wav\"\n",
        "\n",
        "sine_wave = [np.sin(2 * np.pi * frequency * x/sampling_rate) for x in range(num_samples)]\n",
        "\n",
        "wav_file=wave.open(file, 'w')\n",
        "\n",
        "wav_file.setparams((nchannels, sampwidth, int(sampling_rate), nframes, comptype, compname))\n",
        "\n",
        "for s in sine_wave:\n",
        "   wav_file.writeframes(struct.pack('h', int(s*amplitude)))"
      ],
      "execution_count": 3,
      "outputs": []
    },
    {
      "cell_type": "code",
      "metadata": {
        "id": "ZWv3nomWBNo1",
        "colab_type": "code",
        "colab": {}
      },
      "source": [
        "# for audio file 2\n",
        "\n",
        "import numpy as np\n",
        "import wave\n",
        "import struct\n",
        " \n",
        "# frequency is the number of times a wave repeats a second\n",
        " \n",
        "frequency = 2000\n",
        " \n",
        "num_samples = 4800\n",
        " \n",
        "# The sampling rate of the analog to digital convert\n",
        " \n",
        "sampling_rate = 4800\n",
        " \n",
        "amplitude = 8000\n",
        " \n",
        "file = \"test-1.wav\"\n",
        "\n",
        "sine_wave = [np.sin(2 * np.pi * frequency * x/sampling_rate) for x in range(num_samples)]\n",
        "\n",
        "wav_file1=wave.open(file, 'w')\n",
        " \n",
        "wav_file1.setparams((nchannels, sampwidth, int(sampling_rate), nframes, comptype, compname))\n",
        "\n",
        "for s in sine_wave:\n",
        "   wav_file1.writeframes(struct.pack('h', int(s*amplitude)))"
      ],
      "execution_count": 4,
      "outputs": []
    },
    {
      "cell_type": "markdown",
      "metadata": {
        "id": "iCh2tsOq2qzM",
        "colab_type": "text"
      },
      "source": [
        "Combining 2 Audio Files test.wav & test-1.wav"
      ]
    },
    {
      "cell_type": "code",
      "metadata": {
        "id": "jiSeuwEMJOHv",
        "colab_type": "code",
        "colab": {
          "base_uri": "https://localhost:8080/",
          "height": 35
        },
        "outputId": "17dc8eff-9d4d-4404-b026-01bfc5888687"
      },
      "source": [
        "from pydub import AudioSegment\n",
        "\n",
        "sound1 = AudioSegment.from_wav(\"test.wav\")\n",
        "\n",
        "sound2 = AudioSegment.from_wav(\"test-1.wav\")\n",
        "\n",
        "combined_sounds = sound1 + sound2\n",
        "\n",
        "combined_sounds.export(\"combined.wav\", format=\"wav\")"
      ],
      "execution_count": 5,
      "outputs": [
        {
          "output_type": "execute_result",
          "data": {
            "text/plain": [
              "<_io.BufferedRandom name='combined.wav'>"
            ]
          },
          "metadata": {
            "tags": []
          },
          "execution_count": 5
        }
      ]
    }
  ]
}