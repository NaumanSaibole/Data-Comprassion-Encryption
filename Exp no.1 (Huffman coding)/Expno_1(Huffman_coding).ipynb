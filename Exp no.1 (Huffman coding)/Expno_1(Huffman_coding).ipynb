{
  "nbformat": 4,
  "nbformat_minor": 0,
  "metadata": {
    "colab": {
      "name": "Expno.1(Huffman coding).ipynb",
      "provenance": [],
      "authorship_tag": "ABX9TyMs2cT6MW2znLKeok5YiRTA",
      "include_colab_link": true
    },
    "kernelspec": {
      "name": "python3",
      "display_name": "Python 3"
    }
  },
  "cells": [
    {
      "cell_type": "markdown",
      "metadata": {
        "id": "view-in-github",
        "colab_type": "text"
      },
      "source": [
        "<a href=\"https://colab.research.google.com/github/NaumanSaibole/Data-Comprassion-Encryption/blob/master/Exp%20no.1%20(Huffman%20coding)/Expno_1(Huffman_coding).ipynb\" target=\"_parent\"><img src=\"https://colab.research.google.com/assets/colab-badge.svg\" alt=\"Open In Colab\"/></a>"
      ]
    },
    {
      "cell_type": "code",
      "metadata": {
        "id": "cb09ap2lq1Jv",
        "colab_type": "code",
        "colab": {
          "base_uri": "https://localhost:8080/",
          "height": 88
        },
        "outputId": "65ec4625-f75a-44a3-a152-6dcf85cdea2b"
      },
      "source": [
        "pip install dahuffman"
      ],
      "execution_count": null,
      "outputs": [
        {
          "output_type": "stream",
          "text": [
            "Collecting dahuffman\n",
            "  Downloading https://files.pythonhosted.org/packages/08/c4/9c87ef391fae4b557ca3c4ef8eabd1538a7ce568174806e9d76c8f056785/dahuffman-0.4.1-py2.py3-none-any.whl\n",
            "Installing collected packages: dahuffman\n",
            "Successfully installed dahuffman-0.4.1\n"
          ],
          "name": "stdout"
        }
      ]
    },
    {
      "cell_type": "code",
      "metadata": {
        "id": "Nf42dLzerc6w",
        "colab_type": "code",
        "colab": {}
      },
      "source": [
        "from dahuffman import HuffmanCodec"
      ],
      "execution_count": null,
      "outputs": []
    },
    {
      "cell_type": "code",
      "metadata": {
        "id": "rlrbrSaqrf3W",
        "colab_type": "code",
        "colab": {}
      },
      "source": [
        "codec=HuffmanCodec.from_frequencies({'s':10,'a':20,'m':1,'s':40,'u':3,'n':50,'g':30})"
      ],
      "execution_count": null,
      "outputs": []
    },
    {
      "cell_type": "code",
      "metadata": {
        "id": "YzCTmQrnrkzW",
        "colab_type": "code",
        "colab": {}
      },
      "source": [
        "encoded=codec.encode('samsung')"
      ],
      "execution_count": null,
      "outputs": []
    },
    {
      "cell_type": "code",
      "metadata": {
        "id": "wCEqiIUGroX1",
        "colab_type": "code",
        "colab": {
          "base_uri": "https://localhost:8080/",
          "height": 35
        },
        "outputId": "ea328b6e-7084-4e3a-e275-ff79f97eab00"
      },
      "source": [
        "encoded"
      ],
      "execution_count": null,
      "outputs": [
        {
          "output_type": "execute_result",
          "data": {
            "text/plain": [
              "b'\\x88a\\xd0'"
            ]
          },
          "metadata": {
            "tags": []
          },
          "execution_count": 14
        }
      ]
    },
    {
      "cell_type": "code",
      "metadata": {
        "id": "D62mF87ArrUV",
        "colab_type": "code",
        "colab": {
          "base_uri": "https://localhost:8080/",
          "height": 35
        },
        "outputId": "89a277f7-8017-4fa3-fe8a-2698b43d960b"
      },
      "source": [
        "len(encoded)"
      ],
      "execution_count": null,
      "outputs": [
        {
          "output_type": "execute_result",
          "data": {
            "text/plain": [
              "3"
            ]
          },
          "metadata": {
            "tags": []
          },
          "execution_count": 15
        }
      ]
    },
    {
      "cell_type": "code",
      "metadata": {
        "id": "dt5pTcaOrxn4",
        "colab_type": "code",
        "colab": {
          "base_uri": "https://localhost:8080/",
          "height": 159
        },
        "outputId": "7663715e-08e4-42c5-8be0-95ca58081086"
      },
      "source": [
        "codec.print_code_table()"
      ],
      "execution_count": null,
      "outputs": [
        {
          "output_type": "stream",
          "text": [
            "Bits Code  Value Symbol\n",
            "   5 00000     0 _EOF\n",
            "   5 00001     1 'm'\n",
            "   4 0001      1 'u'\n",
            "   3 001       1 'a'\n",
            "   2 01        1 'g'\n",
            "   2 10        2 's'\n",
            "   2 11        3 'n'\n"
          ],
          "name": "stdout"
        }
      ]
    },
    {
      "cell_type": "code",
      "metadata": {
        "id": "OYlt_FhZsGfm",
        "colab_type": "code",
        "colab": {}
      },
      "source": [
        "decode1=codec.decode(encoded)"
      ],
      "execution_count": null,
      "outputs": []
    },
    {
      "cell_type": "code",
      "metadata": {
        "id": "7Ya8otp3sJqc",
        "colab_type": "code",
        "colab": {
          "base_uri": "https://localhost:8080/",
          "height": 36
        },
        "outputId": "7679f34a-dbbb-4c94-99d6-1b78cf5f73ab"
      },
      "source": [
        "decode1"
      ],
      "execution_count": null,
      "outputs": [
        {
          "output_type": "execute_result",
          "data": {
            "application/vnd.google.colaboratory.intrinsic+json": {
              "type": "string"
            },
            "text/plain": [
              "'samsung'"
            ]
          },
          "metadata": {
            "tags": []
          },
          "execution_count": 18
        }
      ]
    },
    {
      "cell_type": "code",
      "metadata": {
        "id": "3Ib3YW2SsQ-6",
        "colab_type": "code",
        "colab": {
          "base_uri": "https://localhost:8080/",
          "height": 35
        },
        "outputId": "324bb2b0-1e5f-40b1-cff7-de5e5cb46f1e"
      },
      "source": [
        "len(decode1)"
      ],
      "execution_count": null,
      "outputs": [
        {
          "output_type": "execute_result",
          "data": {
            "text/plain": [
              "7"
            ]
          },
          "metadata": {
            "tags": []
          },
          "execution_count": 19
        }
      ]
    }
  ]
}