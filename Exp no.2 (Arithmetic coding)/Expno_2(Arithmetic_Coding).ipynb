{
  "nbformat": 4,
  "nbformat_minor": 0,
  "metadata": {
    "colab": {
      "name": "Expno.2(Arithmetic Coding).ipynb",
      "provenance": [],
      "authorship_tag": "ABX9TyM5DUotro2ZLimvUxX+7emF",
      "include_colab_link": true
    },
    "kernelspec": {
      "name": "python3",
      "display_name": "Python 3"
    }
  },
  "cells": [
    {
      "cell_type": "markdown",
      "metadata": {
        "id": "view-in-github",
        "colab_type": "text"
      },
      "source": [
        "<a href=\"https://colab.research.google.com/github/NaumanSaibole/Data-Comprassion-Encryption/blob/master/Exp%20no.2%20(Arithmetic%20coding)/Expno_2(Arithmetic_Coding).ipynb\" target=\"_parent\"><img src=\"https://colab.research.google.com/assets/colab-badge.svg\" alt=\"Open In Colab\"/></a>"
      ]
    },
    {
      "cell_type": "code",
      "metadata": {
        "id": "VJ_-sJR7tli3",
        "colab_type": "code",
        "colab": {
          "base_uri": "https://localhost:8080/",
          "height": 132
        },
        "outputId": "89e7edaa-beb9-4a06-8855-a01c12aba08f"
      },
      "source": [
        "prompt='  Enter the word    ';\n",
        "str=input(prompt,'s');\n",
        "arith=str;\n",
        "len=size(str);\n",
        "le=len(2);\n",
        "count=[];\n",
        "disp('Arithmatic Encoding Started');\n",
        "for i=1:le-1\n",
        "    count(i)=1;\n",
        "    for j=i+1:le\n",
        "        if str(i)==str(j)\n",
        "            str(j)=0;\n",
        "            count(i)=count(i)+1;\n",
        "        end\n",
        "    end\n",
        "end\n",
        "if(str(le)~=0)\n",
        "    count(le)=1;\n",
        "end\n",
        "j=1;\n",
        "%------------Transmitter part--------------------\n",
        "for i=1:le\n",
        "    if(str(i)~=0)\n",
        "        new(j)=str(i);\n",
        "        p(j)=count(i)/le;\n",
        "        if(j>1)\n",
        "            ar(j)=ar(j-1)+p(j);\n",
        "        else\n",
        "            ar(j)=p(j);\n",
        "        end\n",
        "        disp(['Probability for ',str(i),' is   ',num2str(p(j))]);  \n",
        "        j=j+1;\n",
        "    end\n",
        "end\n",
        "larith=size(new);\n",
        "l=[];u=[];\n",
        "l(1)=0;\n",
        "u(1)=ar(1);\n",
        "for i=2:le\n",
        "    for j=1:larith(2)\n",
        "        if(arith(i)==new(j))\n",
        "       l(i)=l(i-1)+(u(i-1)-l(i-1))*(ar(j)-p(j));\n",
        "       u(i)=l(i-1)+(u(i-1)-l(i-1))*ar(j);\n",
        "        end\n",
        "    end\n",
        "end\n",
        "tag=(l(i)+u(i))/2;\n",
        "disp(['The tag is     ',num2str(tag)]);\n",
        "%----------------Reciever part--------------\n",
        "disp('Arithmatic Decoding Started');\n",
        "rec='a';\n",
        "tagr=tag;\n",
        "for i=1:le\n",
        "    for j=1:larith(2)\n",
        "        if(tagr<ar(j) && tagr>(ar(j)-p(j)))\n",
        "            rec(i)=new(j);\n",
        "            nm=j;\n",
        "        end\n",
        "    end\n",
        "    if(nm>1)\n",
        "    tagr=(tagr-ar(nm-1))/p(nm);\n",
        "    else\n",
        "    tagr=tagr/p(nm);\n",
        "    end\n",
        "end\n",
        "disp(['Recieved word is       ',rec]);\n",
        "if(rec==arith)\n",
        "    disp('Succesfully Recieved');\n",
        "else\n",
        "    disp('Sorry not recieved successfully');\n",
        "end"
      ],
      "execution_count": null,
      "outputs": [
        {
          "output_type": "error",
          "ename": "SyntaxError",
          "evalue": "ignored",
          "traceback": [
            "\u001b[0;36m  File \u001b[0;32m\"<ipython-input-3-989b5a6fa782>\"\u001b[0;36m, line \u001b[0;32m8\u001b[0m\n\u001b[0;31m    for i=1:le-1\u001b[0m\n\u001b[0m         ^\u001b[0m\n\u001b[0;31mSyntaxError\u001b[0m\u001b[0;31m:\u001b[0m invalid syntax\n"
          ]
        }
      ]
    }
  ]
}